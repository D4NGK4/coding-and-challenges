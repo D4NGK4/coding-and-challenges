{
 "cells": [
  {
   "cell_type": "markdown",
   "metadata": {},
   "source": [
    "#String Methods#\n"
   ]
  },
  {
   "cell_type": "code",
   "execution_count": 2,
   "metadata": {},
   "outputs": [
    {
     "name": "stdout",
     "output_type": "stream",
     "text": [
      "8\n",
      "2\n",
      "Bro code\n",
      "BRO CODE\n",
      "bro code\n",
      "False\n",
      "False\n",
      "2\n",
      "Bra Cade\n",
      "Bro CodeBro CodeBro Code\n"
     ]
    }
   ],
   "source": [
    "name= \"Bro Code\"\n",
    "\n",
    "print(len(name))\n",
    "print(name.find('o'))\n",
    "print(name.capitalize())\n",
    "print(name.upper())\n",
    "print(name.lower())\n",
    "print(name.isdigit())\n",
    "print(name.isalpha())\n",
    "print(name.count('o'))\n",
    "print(name.replace('o','a'))\n",
    "print(name*3)\n"
   ]
  },
  {
   "cell_type": "markdown",
   "metadata": {},
   "source": [
    "'''Type Casting'''\n"
   ]
  },
  {
   "cell_type": "code",
   "execution_count": 8,
   "metadata": {},
   "outputs": [
    {
     "name": "stdout",
     "output_type": "stream",
     "text": [
      "<class 'int'> <class 'float'> <class 'str'>\n",
      "<class 'float'> <class 'str'> <class 'int'>\n",
      "1.0 2.0 3\n"
     ]
    }
   ],
   "source": [
    "x = 1 #int\n",
    "y = 2.0 #float\n",
    "z = \"3\" #str\n",
    "\n",
    "print(type(x), type(y), (type(z)))\n",
    "\n",
    "x = float(x)\n",
    "y = str(y)\n",
    "z = int(z)\n",
    "\n",
    "print(type(x), type(y), (type(z)))\n",
    "\n",
    "print(x, y, z)\n",
    "\n"
   ]
  }
 ],
 "metadata": {
  "kernelspec": {
   "display_name": "Python 3",
   "language": "python",
   "name": "python3"
  },
  "language_info": {
   "codemirror_mode": {
    "name": "ipython",
    "version": 3
   },
   "file_extension": ".py",
   "mimetype": "text/x-python",
   "name": "python",
   "nbconvert_exporter": "python",
   "pygments_lexer": "ipython3",
   "version": "3.11.4"
  }
 },
 "nbformat": 4,
 "nbformat_minor": 2
}
