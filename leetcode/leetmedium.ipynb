{
 "cells": [
  {
   "cell_type": "markdown",
   "metadata": {},
   "source": [
    "# 1524. Number of Sub-arrays With Odd Sum"
   ]
  },
  {
   "cell_type": "code",
   "execution_count": null,
   "metadata": {},
   "outputs": [],
   "source": [
    "arr = [1,3,5]\n",
    "counter = 0\n",
    "index = 0\n",
    "newarr = []\n",
    "\n",
    "for i in range(len(arr)):\n",
    "    if index < len(arr):\n",
    "        newarr.append(arr[i])\n",
    "        index+=1\n",
    "    \n",
    "        \n",
    "        \n",
    "print(newarr)\n"
   ]
  }
 ],
 "metadata": {
  "language_info": {
   "name": "python"
  }
 },
 "nbformat": 4,
 "nbformat_minor": 2
}
