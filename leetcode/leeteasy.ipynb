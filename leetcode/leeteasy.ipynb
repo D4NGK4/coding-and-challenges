{
  "cells": [
    {
      "cell_type": "markdown",
      "metadata": {},
      "source": [
        "# 13. Roman to Integer(Done)\n"
      ]
    },
    {
      "cell_type": "code",
      "execution_count": null,
      "metadata": {},
      "outputs": [],
      "source": [
        "# def romanToInt(s: str) -> int:\n",
        "#         sumof = 0\n",
        "#         length = len(s)\n",
        "        \n",
        "#         for i in length:\n",
        "#             s1 = value(s[i], 0)\n",
        "#             if (i+1 < length):\n",
        "#                 s2 = value(s[i+1], 0)\n",
        "#                 if (s1 > s2):\n",
        "#                     sumof += s1\n",
        "#                 else:\n",
        "#                     sumof += (s2 - s1)\n",
        "#             else:\n",
        "#                 sumof += s1\n",
        "                \n",
        "#         return sumof\n",
        "            \n",
        "        \n",
        "# def value(r):\n",
        "#     switch = {\n",
        "#         \"I\": 1,\n",
        "#         \"V\": 5,\n",
        "#         \"X\": 10,\n",
        "#         \"L\": 50,\n",
        "#         \"C\": 100,\n",
        "#         \"D\": 500,\n",
        "#         \"M\": 1000\n",
        "#     }\n",
        "#     return 0\n",
        "\n",
        "# s = \"XXLLCC\"\n",
        "\n",
        "# print(romanToInt(s=s))\n",
        "\n",
        "\n",
        "# Wrong Solution"
      ]
    },
    {
      "cell_type": "code",
      "execution_count": null,
      "metadata": {},
      "outputs": [],
      "source": [
        "class Solution(object):\n",
        "    def romanToInt(self, s):\n",
        "        sum = 0\n",
        "        prevValue = 0\n",
        "        value = {'I': 1, 'V': 5, 'X': 10, 'L': 50, 'C': 100, 'D': 500, 'M': 1000}\n",
        "        \n",
        "        for c in s:\n",
        "            currentValue = value[c]\n",
        "            sum += (currentValue -2 * prevValue) if (currentValue > prevValue) else currentValue\n",
        "            prevValue = currentValue\n",
        "        return sum\n",
        "    \n",
        "# iterative approach\n",
        "\n",
        "romannumeral = \"IVIVXL\"    \n",
        "s = Solution()\n",
        "s.romanToInt(romannumeral)"
      ]
    },
    {
      "cell_type": "markdown",
      "metadata": {},
      "source": [
        "# 1. Two Sum(Done)\n"
      ]
    },
    {
      "cell_type": "code",
      "execution_count": null,
      "metadata": {},
      "outputs": [],
      "source": [
        "from typing import List\n",
        "\n",
        "class Solution:\n",
        "    def twoSum(self, nums: List[int], target: int) -> List[int]:\n",
        "        for i in range(len(nums)):\n",
        "            for j in range(i+1, len(nums)):\n",
        "                if nums[i] + nums[j] ==target:\n",
        "                    return[i,j]\n",
        "                \n",
        "        return None        \n",
        "                \n",
        "            \n",
        "                \n",
        "                \n",
        "nums = [3,3]\n",
        "target = 6\n",
        "sol = Solution()\n",
        "sol.twoSum(nums, target)"
      ]
    },
    {
      "cell_type": "code",
      "execution_count": 159,
      "metadata": {},
      "outputs": [
        {
          "name": "stdout",
          "output_type": "stream",
          "text": [
            "23 4\n",
            "23 2\n",
            "23 3\n",
            "23 4\n",
            "4 2\n",
            "4 3\n"
          ]
        },
        {
          "ename": "TypeError",
          "evalue": "'builtin_function_or_method' object is not subscriptable",
          "output_type": "error",
          "traceback": [
            "\u001b[1;31m---------------------------------------------------------------------------\u001b[0m",
            "\u001b[1;31mTypeError\u001b[0m                                 Traceback (most recent call last)",
            "Cell \u001b[1;32mIn[159], line 7\u001b[0m\n\u001b[0;32m      5\u001b[0m         \u001b[38;5;28mprint\u001b[39m(nums[i],nums[j])\n\u001b[0;32m      6\u001b[0m         \u001b[38;5;28;01mif\u001b[39;00m nums[i] \u001b[38;5;241m+\u001b[39m nums[j] \u001b[38;5;241m==\u001b[39mtarget:\n\u001b[1;32m----> 7\u001b[0m                 \u001b[38;5;28;43mprint\u001b[39;49m\u001b[43m[\u001b[49m\u001b[43mi\u001b[49m\u001b[43m,\u001b[49m\u001b[43mj\u001b[49m\u001b[43m]\u001b[49m\n\u001b[0;32m      9\u001b[0m \u001b[38;5;66;03m# Range is just a sequence of numbers that start at 0.\u001b[39;00m\n\u001b[0;32m     10\u001b[0m \u001b[38;5;66;03m# By storing the length of nums in the range function, it will count from 0\u001b[39;00m\n\u001b[0;32m     11\u001b[0m \u001b[38;5;66;03m# to the lenght of the passed nums-1.\u001b[39;00m\n\u001b[0;32m     12\u001b[0m \u001b[38;5;66;03m# It's nums-1 because the range function starts at 0.\u001b[39;00m\n",
            "\u001b[1;31mTypeError\u001b[0m: 'builtin_function_or_method' object is not subscriptable"
          ]
        }
      ],
      "source": [
        "target = 7\n",
        "nums = [23,4,2,3,4]\n",
        "for i in range(len(nums)):\n",
        "    for j in range(i + 1, len(nums)):\n",
        "        print(nums[i],nums[j])\n",
        "        if nums[i] + nums[j] ==target:\n",
        "                print[i,j]\n",
        "\n",
        "# Range is just a sequence of numbers that start at 0.\n",
        "# By storing the length of nums in the range function, it will count from 0\n",
        "# to the lenght of the passed nums-1.\n",
        "# It's nums-1 because the range function starts at 0.\n",
        "    "
      ]
    },
    {
      "cell_type": "markdown",
      "metadata": {},
      "source": [
        "# 3110. Score of a String(Done)\n"
      ]
    },
    {
      "cell_type": "code",
      "execution_count": null,
      "metadata": {},
      "outputs": [],
      "source": [
        "class Solution:\n",
        "    def scoreOfString(self, s: str) -> int:\n",
        "        letters = dict(a=97, b=98, c=99, d=100,e=101,f=102,g=103,h=104,i=105,j=106,k=107, l=108, m=109, n=110, o=111, p=112,q=113, r=114, s=115, t=116, u=117, v=118, w=119, x=120, y=121, z=122)\n",
        "\n",
        "        sample = \"hello\"\n",
        "        strpd = list(s.lower())\n",
        "        total = 0\n",
        "\n",
        "        for i in range(len(strpd)):\n",
        "            try: \n",
        "                total += (abs(letters[strpd[i]] - letters[strpd[i+1]]))\n",
        "            except IndexError:\n",
        "                pass\n",
        "            \n",
        "        return total\n",
        "        \n",
        " "
      ]
    },
    {
      "cell_type": "code",
      "execution_count": null,
      "metadata": {},
      "outputs": [],
      "source": [
        "letters = dict(a=97, b=98, c=99, d=100,e=101,f=102,g=103,h=104,i=105,j=106,k=107, l=108, m=109, n=110, o=111, p=112,q=113, r=114, s=115, t=116, u=117, v=118, w=119, x=120, y=121, z=122)\n",
        "\n",
        "sample = \"hello\"\n",
        "strpd = list(sample.lower())\n",
        "total = 0\n",
        "\n",
        "for i in range(len(strpd)):\n",
        "    try: \n",
        "        total += (abs(letters[strpd[i]] - letters[strpd[i+1]]))\n",
        "    except IndexError:\n",
        "        pass\n",
        "    \n",
        "print(total)\n",
        "    \n",
        "    "
      ]
    },
    {
      "cell_type": "markdown",
      "metadata": {},
      "source": [
        "# 2011. Final Value of Variable After Performing Operations(Done)\n"
      ]
    },
    {
      "cell_type": "code",
      "execution_count": null,
      "metadata": {},
      "outputs": [],
      "source": [
        "class Solution:\n",
        "    def finalValueAfterOperations(self, operations: List[str]) -> int:        \n",
        "        total = 0\n",
        "    \n",
        "    for i in range(len(operations)):\n",
        "        if (operations[i] == \"--X\" or operations[i] == \"X--\"):\n",
        "            total -= 1\n",
        "        else: total += 1\n",
        "    return total  \n",
        "            \n"
      ]
    },
    {
      "cell_type": "code",
      "execution_count": null,
      "metadata": {},
      "outputs": [],
      "source": [
        "operations = [\"--X\",\"X++\",\"X++\"]\n",
        "\n",
        "\n",
        "\n",
        "def tots(operations):\n",
        "    total = 0\n",
        "    \n",
        "    for i in range(len(operations)):\n",
        "        if (operations[i] == \"--X\" or operations[i] == \"X--\"):\n",
        "            total -= 1\n",
        "        else: total += 1\n",
        "    return total  \n",
        "\n",
        "print(tots(operations)) "
      ]
    },
    {
      "cell_type": "markdown",
      "metadata": {},
      "source": [
        "# 1108. Defanging an IP Address (Done)\n"
      ]
    },
    {
      "cell_type": "code",
      "execution_count": null,
      "metadata": {},
      "outputs": [],
      "source": [
        "class Solution:\n",
        "    def defangIPaddr(self, address: str) -> str:\n",
        "        return address.replace('.', '[.]')\n",
        "        \n",
        "        "
      ]
    },
    {
      "cell_type": "code",
      "execution_count": null,
      "metadata": {},
      "outputs": [],
      "source": [
        "address = \"1.1.1.1\"\n",
        "print(address.replace('.','[.]'))\n",
        "\n",
        "# another solution\n",
        "\n",
        "ans = ''\n",
        "\n",
        "for i in address:\n",
        "    if i != '.':\n",
        "        ans+=i\n",
        "    else: \n",
        "        ans += '[.]'\n",
        "\n",
        "print(ans)\n",
        "\n",
        "    "
      ]
    },
    {
      "cell_type": "markdown",
      "metadata": {},
      "source": [
        "# 771. Jewels and Stones(Done)\n"
      ]
    },
    {
      "cell_type": "code",
      "execution_count": null,
      "metadata": {},
      "outputs": [],
      "source": [
        "jewels = \"zaA\"\n",
        "jewels = list(jewels)\n",
        "stones = \"ZZzzAAAaabbbbb\"\n",
        "stones = list(stones)\n",
        "count = 0\n",
        "\n",
        "for i in range(len(jewels)):\n",
        "    for j in range(len(stones)):\n",
        "        if jewels[i] == stones[j]:\n",
        "            count += 1\n",
        "print(count)\n",
        "\n",
        "# another solution\n",
        "\n",
        "jewels = set(jewels)\n",
        "count = 0\n",
        "for stone in stones:\n",
        "    if stone in jewels:\n",
        "        count+=1\n",
        "print(count)\n",
        "\n",
        "        \n",
        "    "
      ]
    },
    {
      "cell_type": "markdown",
      "metadata": {},
      "source": [
        "# 3280. Convert Date to Binary (Done)\n"
      ]
    },
    {
      "cell_type": "code",
      "execution_count": 73,
      "metadata": {},
      "outputs": [],
      "source": [
        "# Complete solution\n",
        "\n",
        "class Solution:\n",
        "    def convertDateToBinary(self, date: str) -> str:\n",
        "        date = date.split('-')\n",
        "        date = list(map(int,date))\n",
        "        ans = \"\"\n",
        "\n",
        "        for i in range(len(date)):\n",
        "            ans +=  bin(date[i]).replace(\"0b\",\"\")\n",
        "            if i < 2:\n",
        "                ans += \"-\"\n",
        "        return ans\n",
        "\n",
        "#faster solution"
      ]
    },
    {
      "cell_type": "code",
      "execution_count": null,
      "metadata": {},
      "outputs": [
        {
          "name": "stdout",
          "output_type": "stream",
          "text": [
            "11111101001-10-11101\n"
          ]
        }
      ],
      "source": [
        "date = \"2025-02-29\"\n",
        "date = date.split('-')\n",
        "date = list(map(int,date))\n",
        "\n",
        "\n",
        "def ConvertToBinary(date):  \n",
        "    return bin(date).replace(\"0b\", \"\")\n",
        "\n",
        "\n",
        "ans = \"\"\n",
        "\n",
        "for i in range(len(date)):\n",
        "    ans +=  ConvertToBinary(date[i])\n",
        "    if i < 2:\n",
        "        ans += \"-\"\n",
        "\n",
        "\n",
        "print(ans)\n",
        "\n",
        "\n"
      ]
    },
    {
      "cell_type": "markdown",
      "metadata": {},
      "source": [
        "# 2942. Find Words Containing Character (Done)\n"
      ]
    },
    {
      "cell_type": "code",
      "execution_count": 160,
      "metadata": {},
      "outputs": [
        {
          "name": "stdout",
          "output_type": "stream",
          "text": [
            "[0, 2]\n"
          ]
        }
      ],
      "source": [
        "words = [\"abc\",\"bcd\",\"aaaa\",\"cbc\"]\n",
        "x = \"a\"\n",
        "\n",
        "indexes = []\n",
        "\n",
        "\n",
        "for i in range(len(words)):\n",
        "        if x in words[i]:\n",
        "            indexes.append(i)\n",
        "            \n",
        "print(indexes)\n",
        "\n",
        "\n"
      ]
    },
    {
      "cell_type": "markdown",
      "metadata": {},
      "source": [
        "# 1684. Count the Number of Consistent Strings (Done)\n"
      ]
    },
    {
      "cell_type": "code",
      "execution_count": null,
      "metadata": {},
      "outputs": [],
      "source": [
        "class Solution:\n",
        "    def countConsistentStrings(self, allowed: str, words: List[str]) -> int:\n",
        "        allowed = list(allowed)\n",
        "        counter = 0\n",
        "\n",
        "        for i in range(len(allowed)):\n",
        "            for j in range(len(words)):\n",
        "                if allowed[i] in words[j]:\n",
        "                    print(allowed[i], words[j])\n",
        "                    counter+=1\n",
        "            \n",
        "        return counter"
      ]
    },
    {
      "cell_type": "code",
      "execution_count": null,
      "metadata": {},
      "outputs": [
        {
          "name": "stdout",
          "output_type": "stream",
          "text": [
            "{'d', 'a', 'c'}\n",
            "b\n",
            "b\n",
            "b\n",
            "b\n",
            "4\n"
          ]
        }
      ],
      "source": [
        "allowed = \"cad\"\n",
        "words = [\"cc\",\"acd\",\"bbbbb\",\"ba\",\"bac\",\"bad\",\"ac\",\"d\"]\n",
        "allowed = set(allowed)\n",
        "total = len(words)\n",
        "\n",
        "print(allowed)\n",
        "\n",
        "for w in words:\n",
        "    for c in w:\n",
        "        if c not in allowed:\n",
        "            print(c)\n",
        "            total -= 1\n",
        "            break\n",
        "            \n",
        "print(total)\n",
        "\n",
        "# Note: We have 3 loops a b and c. If we use break in loop c only loop c will be terminated and not the ones above it. If we break from loop b, loop b will be terminated as well as loop c since the loop c is after b, and a will continue to its next element. But if we break from loop a then the entirety of the loop will be terminated.\n",
        "\n",
        "# This will be helpful if you want to check for an existing value in the element of loop b or c and return the value or just iterate from it. \n",
        "\n",
        "#Answer From NeetcodeIO\n",
        "\n",
        "        \n",
        "            \n",
        "    \n",
        "    \n"
      ]
    },
    {
      "cell_type": "markdown",
      "metadata": {},
      "source": [
        "# 3146. Permutation Difference between Two Strings(Done)"
      ]
    },
    {
      "cell_type": "code",
      "execution_count": null,
      "metadata": {},
      "outputs": [],
      "source": [
        "class Solution:\n",
        "    def findPermutationDifference(self, s: str, t: str) -> int:\n",
        "        s = list(s)\n",
        "        t = list(t)\n",
        "        sum = 0\n",
        "\n",
        "        for i in range(len(s)):\n",
        "            for j in range(len(t)):\n",
        "                if s[i] == t[j]:\n",
        "                    sum += abs(i - j)\n",
        "        return sum\n"
      ]
    },
    {
      "cell_type": "code",
      "execution_count": null,
      "metadata": {},
      "outputs": [
        {
          "name": "stdout",
          "output_type": "stream",
          "text": [
            "4\n",
            "4\n"
          ]
        }
      ],
      "source": [
        "s = \"abs\"\n",
        "t = \"sba\"\n",
        "s = list(s)\n",
        "t = list(t)\n",
        "sum = 0\n",
        "\n",
        "for i in range(len(s)):\n",
        "    for j in range(len(t)):\n",
        "        if s[i] == t[j]:\n",
        "            sum += abs(i - j)\n",
        "\n",
        "print(sum)\n",
        "\n",
        "# Another solution\n",
        "\n",
        "c=0\n",
        "\n",
        "for i in range(len(s)):\n",
        "    r=s[i]\n",
        "    j=t.index(r)\n",
        "    c+=abs(i-j)\n",
        "print(c)\n",
        "\n",
        "# This one is faster since it uses the function .index() which returns the index of the element found in the array.\n"
      ]
    },
    {
      "cell_type": "markdown",
      "metadata": {},
      "source": [
        "# 1678. Goal Parser Interpretation (Done)"
      ]
    },
    {
      "cell_type": "code",
      "execution_count": null,
      "metadata": {},
      "outputs": [
        {
          "name": "stdout",
          "output_type": "stream",
          "text": [
            "Goal\n",
            "Goal\n"
          ]
        }
      ],
      "source": [
        "command = \"G()(al)\"\n",
        "\n",
        "command = list(command)\n",
        "ans = \"\"\n",
        "\n",
        "\n",
        "for i in range(len(command)):\n",
        "    if command[i] == \"G\":\n",
        "        ans+=\"G\"\n",
        "    elif command[i] == \"(\" and command[i+1] == \")\":\n",
        "        ans+=\"o\"\n",
        "    elif command[i] == \"a\" and command[i+1]==\"l\":\n",
        "        ans+=\"al\"\n",
        "        \n",
        "print(ans)\n",
        "\n",
        "# better answer from solutions\n",
        "command = \"G()(al)\"\n",
        "ans = command.replace(\"()\", \"o\").replace(\"(al)\", \"al\")\n",
        "print(ans)\n",
        "\n",
        "# Note: It might be better to use replace() since it's faster but it won't hurt to go through the problem the long way. \n",
        "        \n",
        "\n"
      ]
    },
    {
      "cell_type": "markdown",
      "metadata": {},
      "source": [
        "# 2114. Maximum Number of Words Found in Sentences(Done)"
      ]
    },
    {
      "cell_type": "code",
      "execution_count": null,
      "metadata": {},
      "outputs": [],
      "source": [
        "class Solution:\n",
        "    def mostWordsFound(self, sentences: List[str]) -> int:\n",
        "        prevValue = 0\n",
        "\n",
        "        for i in sentences:\n",
        "            sentences = i.split(\" \")\n",
        "            l = len(sentences)\n",
        "            if l > prevValue:\n",
        "                    prevValue = l\n",
        "        \n",
        "        return preValue"
      ]
    },
    {
      "cell_type": "code",
      "execution_count": null,
      "metadata": {},
      "outputs": [
        {
          "name": "stdout",
          "output_type": "stream",
          "text": [
            "6\n",
            "6\n"
          ]
        }
      ],
      "source": [
        "sentences = [\"alice and bob love leetcode\", \"i think so too\", \"this is great thanks very much\"]\n",
        "prevValue = 0\n",
        "\n",
        "for i in sentences:\n",
        "   sentences = i.split(\" \")\n",
        "   l = len(sentences)\n",
        "   if l > prevValue:\n",
        "        prevValue = l\n",
        "\n",
        "print(prevValue)\n",
        "\n",
        "# Note: This makes use of the split() function that splits the contents of the element of the array by its spaces.     \n",
        "\n",
        "   \n",
        "sentences = [\"alice and bob love leetcode\", \"i think so too\", \"this is great thanks very much\"]\n",
        "m = max(sentence.count(\" \") for sentence in sentences)+1\n",
        "print(m)\n",
        "\n",
        "# better solution in solutions tab.\n",
        "# Makes use of max() by looking for the maximum number of \" \" in a sentence and adding 1 to get the equal number of words in the sentence. "
      ]
    },
    {
      "cell_type": "markdown",
      "metadata": {},
      "source": []
    }
  ],
  "metadata": {
    "kernelspec": {
      "display_name": "Python 3",
      "language": "python",
      "name": "python3"
    },
    "language_info": {
      "codemirror_mode": {
        "name": "ipython",
        "version": 3
      },
      "file_extension": ".py",
      "mimetype": "text/x-python",
      "name": "python",
      "nbconvert_exporter": "python",
      "pygments_lexer": "ipython3",
      "version": "3.11.4"
    }
  },
  "nbformat": 4,
  "nbformat_minor": 2
}
