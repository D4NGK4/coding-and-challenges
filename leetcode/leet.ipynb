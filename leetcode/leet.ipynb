{
  "cells": [
    {
      "cell_type": "markdown",
      "metadata": {},
      "source": [
        "13. Roman to Integer\n"
      ]
    },
    {
      "cell_type": "code",
      "execution_count": null,
      "metadata": {},
      "outputs": [],
      "source": [
        "# def romanToInt(s: str) -> int:\n",
        "#         sumof = 0\n",
        "#         length = len(s)\n",
        "        \n",
        "#         for i in length:\n",
        "#             s1 = value(s[i], 0)\n",
        "#             if (i+1 < length):\n",
        "#                 s2 = value(s[i+1], 0)\n",
        "#                 if (s1 > s2):\n",
        "#                     sumof += s1\n",
        "#                 else:\n",
        "#                     sumof += (s2 - s1)\n",
        "#             else:\n",
        "#                 sumof += s1\n",
        "                \n",
        "#         return sumof\n",
        "            \n",
        "        \n",
        "# def value(r):\n",
        "#     switch = {\n",
        "#         \"I\": 1,\n",
        "#         \"V\": 5,\n",
        "#         \"X\": 10,\n",
        "#         \"L\": 50,\n",
        "#         \"C\": 100,\n",
        "#         \"D\": 500,\n",
        "#         \"M\": 1000\n",
        "#     }\n",
        "#     return 0\n",
        "\n",
        "# s = \"XXLLCC\"\n",
        "\n",
        "# print(romanToInt(s=s))\n",
        "\n",
        "\n",
        "# Wrong Solution"
      ]
    },
    {
      "cell_type": "code",
      "execution_count": null,
      "metadata": {},
      "outputs": [],
      "source": [
        "class Solution(object):\n",
        "    def romanToInt(self, s):\n",
        "        sum = 0\n",
        "        prevValue = 0\n",
        "        value = {'I': 1, 'V': 5, 'X': 10, 'L': 50, 'C': 100, 'D': 500, 'M': 1000}\n",
        "        \n",
        "        for c in s:\n",
        "            currentValue = value[c]\n",
        "            sum += (currentValue -2 * prevValue) if (currentValue > prevValue) else currentValue\n",
        "            prevValue = currentValue\n",
        "        return sum\n",
        "    \n",
        "# iterative approach\n",
        "\n",
        "romannumeral = \"IVIVXL\"    \n",
        "s = Solution()\n",
        "s.romanToInt(romannumeral)"
      ]
    },
    {
      "cell_type": "markdown",
      "metadata": {},
      "source": [
        "1. Two Sum\n"
      ]
    },
    {
      "cell_type": "code",
      "execution_count": null,
      "metadata": {},
      "outputs": [],
      "source": [
        "from typing import List\n",
        "\n",
        "class Solution:\n",
        "    def twoSum(self, nums: List[int], target: int) -> List[int]:\n",
        "        for i in range(len(nums)):\n",
        "            for j in range(i+1, len(nums)):\n",
        "                if nums[i] + nums[j] ==target:\n",
        "                    return[i,j]\n",
        "                \n",
        "        return None        \n",
        "                \n",
        "            \n",
        "                \n",
        "                \n",
        "nums = [3,3]\n",
        "target = 6\n",
        "sol = Solution()\n",
        "sol.twoSum(nums, target)"
      ]
    },
    {
      "cell_type": "code",
      "execution_count": null,
      "metadata": {},
      "outputs": [],
      "source": [
        "nums = [23,4,2,3,4]\n",
        "for i in range(len(nums)):\n",
        "    print(i)\n",
        "\n",
        "# Range is just a sequence of numbers that start at 0.\n",
        "# By storing the length of nums in the range function, it will count from 0\n",
        "# to the lenght of the passed nums-1.\n",
        "# It's nums-1 because the range function starts at 0.\n",
        "    "
      ]
    },
    {
      "cell_type": "markdown",
      "metadata": {},
      "source": [
        "3110. Score of a String Correct Solution yey\n"
      ]
    },
    {
      "cell_type": "code",
      "execution_count": null,
      "metadata": {},
      "outputs": [],
      "source": [
        "class Solution:\n",
        "    def scoreOfString(self, s: str) -> int:\n",
        "        letters = dict(a=97, b=98, c=99, d=100,e=101,f=102,g=103,h=104,i=105,j=106,k=107, l=108, m=109, n=110, o=111, p=112,q=113, r=114, s=115, t=116, u=117, v=118, w=119, x=120, y=121, z=122)\n",
        "\n",
        "        sample = \"hello\"\n",
        "        strpd = list(s.lower())\n",
        "        total = 0\n",
        "\n",
        "        for i in range(len(strpd)):\n",
        "            try: \n",
        "                total += (abs(letters[strpd[i]] - letters[strpd[i+1]]))\n",
        "            except IndexError:\n",
        "                pass\n",
        "            \n",
        "        return total\n",
        "        \n",
        " "
      ]
    },
    {
      "cell_type": "code",
      "execution_count": null,
      "metadata": {},
      "outputs": [
        {
          "name": "stdout",
          "output_type": "stream",
          "text": [
            "13\n"
          ]
        }
      ],
      "source": [
        "letters = dict(a=97, b=98, c=99, d=100,e=101,f=102,g=103,h=104,i=105,j=106,k=107, l=108, m=109, n=110, o=111, p=112,q=113, r=114, s=115, t=116, u=117, v=118, w=119, x=120, y=121, z=122)\n",
        "\n",
        "sample = \"hello\"\n",
        "strpd = list(sample.lower())\n",
        "total = 0\n",
        "\n",
        "for i in range(len(strpd)):\n",
        "    try: \n",
        "        total += (abs(letters[strpd[i]] - letters[strpd[i+1]]))\n",
        "    except IndexError:\n",
        "        pass\n",
        "    \n",
        "print(total)\n",
        "    \n",
        "    "
      ]
    }
  ],
  "metadata": {
    "kernelspec": {
      "display_name": "Python 3",
      "language": "python",
      "name": "python3"
    },
    "language_info": {
      "codemirror_mode": {
        "name": "ipython",
        "version": 3
      },
      "file_extension": ".py",
      "mimetype": "text/x-python",
      "name": "python",
      "nbconvert_exporter": "python",
      "pygments_lexer": "ipython3",
      "version": "3.11.4"
    }
  },
  "nbformat": 4,
  "nbformat_minor": 2
}
