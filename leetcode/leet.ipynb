{
  "cells": [
    {
      "cell_type": "markdown",
      "metadata": {},
      "source": [
        "# 13. Roman to Integer(Done)\n"
      ]
    },
    {
      "cell_type": "code",
      "execution_count": null,
      "metadata": {},
      "outputs": [],
      "source": [
        "# def romanToInt(s: str) -> int:\n",
        "#         sumof = 0\n",
        "#         length = len(s)\n",
        "        \n",
        "#         for i in length:\n",
        "#             s1 = value(s[i], 0)\n",
        "#             if (i+1 < length):\n",
        "#                 s2 = value(s[i+1], 0)\n",
        "#                 if (s1 > s2):\n",
        "#                     sumof += s1\n",
        "#                 else:\n",
        "#                     sumof += (s2 - s1)\n",
        "#             else:\n",
        "#                 sumof += s1\n",
        "                \n",
        "#         return sumof\n",
        "            \n",
        "        \n",
        "# def value(r):\n",
        "#     switch = {\n",
        "#         \"I\": 1,\n",
        "#         \"V\": 5,\n",
        "#         \"X\": 10,\n",
        "#         \"L\": 50,\n",
        "#         \"C\": 100,\n",
        "#         \"D\": 500,\n",
        "#         \"M\": 1000\n",
        "#     }\n",
        "#     return 0\n",
        "\n",
        "# s = \"XXLLCC\"\n",
        "\n",
        "# print(romanToInt(s=s))\n",
        "\n",
        "\n",
        "# Wrong Solution"
      ]
    },
    {
      "cell_type": "code",
      "execution_count": null,
      "metadata": {},
      "outputs": [],
      "source": [
        "class Solution(object):\n",
        "    def romanToInt(self, s):\n",
        "        sum = 0\n",
        "        prevValue = 0\n",
        "        value = {'I': 1, 'V': 5, 'X': 10, 'L': 50, 'C': 100, 'D': 500, 'M': 1000}\n",
        "        \n",
        "        for c in s:\n",
        "            currentValue = value[c]\n",
        "            sum += (currentValue -2 * prevValue) if (currentValue > prevValue) else currentValue\n",
        "            prevValue = currentValue\n",
        "        return sum\n",
        "    \n",
        "# iterative approach\n",
        "\n",
        "romannumeral = \"IVIVXL\"    \n",
        "s = Solution()\n",
        "s.romanToInt(romannumeral)"
      ]
    },
    {
      "cell_type": "markdown",
      "metadata": {},
      "source": [
        "# 1. Two Sum(Done)\n"
      ]
    },
    {
      "cell_type": "code",
      "execution_count": null,
      "metadata": {},
      "outputs": [],
      "source": [
        "from typing import List\n",
        "\n",
        "class Solution:\n",
        "    def twoSum(self, nums: List[int], target: int) -> List[int]:\n",
        "        for i in range(len(nums)):\n",
        "            for j in range(i+1, len(nums)):\n",
        "                if nums[i] + nums[j] ==target:\n",
        "                    return[i,j]\n",
        "                \n",
        "        return None        \n",
        "                \n",
        "            \n",
        "                \n",
        "                \n",
        "nums = [3,3]\n",
        "target = 6\n",
        "sol = Solution()\n",
        "sol.twoSum(nums, target)"
      ]
    },
    {
      "cell_type": "code",
      "execution_count": 159,
      "metadata": {},
      "outputs": [
        {
          "name": "stdout",
          "output_type": "stream",
          "text": [
            "23 4\n",
            "23 2\n",
            "23 3\n",
            "23 4\n",
            "4 2\n",
            "4 3\n"
          ]
        },
        {
          "ename": "TypeError",
          "evalue": "'builtin_function_or_method' object is not subscriptable",
          "output_type": "error",
          "traceback": [
            "\u001b[1;31m---------------------------------------------------------------------------\u001b[0m",
            "\u001b[1;31mTypeError\u001b[0m                                 Traceback (most recent call last)",
            "Cell \u001b[1;32mIn[159], line 7\u001b[0m\n\u001b[0;32m      5\u001b[0m         \u001b[38;5;28mprint\u001b[39m(nums[i],nums[j])\n\u001b[0;32m      6\u001b[0m         \u001b[38;5;28;01mif\u001b[39;00m nums[i] \u001b[38;5;241m+\u001b[39m nums[j] \u001b[38;5;241m==\u001b[39mtarget:\n\u001b[1;32m----> 7\u001b[0m                 \u001b[38;5;28;43mprint\u001b[39;49m\u001b[43m[\u001b[49m\u001b[43mi\u001b[49m\u001b[43m,\u001b[49m\u001b[43mj\u001b[49m\u001b[43m]\u001b[49m\n\u001b[0;32m      9\u001b[0m \u001b[38;5;66;03m# Range is just a sequence of numbers that start at 0.\u001b[39;00m\n\u001b[0;32m     10\u001b[0m \u001b[38;5;66;03m# By storing the length of nums in the range function, it will count from 0\u001b[39;00m\n\u001b[0;32m     11\u001b[0m \u001b[38;5;66;03m# to the lenght of the passed nums-1.\u001b[39;00m\n\u001b[0;32m     12\u001b[0m \u001b[38;5;66;03m# It's nums-1 because the range function starts at 0.\u001b[39;00m\n",
            "\u001b[1;31mTypeError\u001b[0m: 'builtin_function_or_method' object is not subscriptable"
          ]
        }
      ],
      "source": [
        "target = 7\n",
        "nums = [23,4,2,3,4]\n",
        "for i in range(len(nums)):\n",
        "    for j in range(i + 1, len(nums)):\n",
        "        print(nums[i],nums[j])\n",
        "        if nums[i] + nums[j] ==target:\n",
        "                print[i,j]\n",
        "\n",
        "# Range is just a sequence of numbers that start at 0.\n",
        "# By storing the length of nums in the range function, it will count from 0\n",
        "# to the lenght of the passed nums-1.\n",
        "# It's nums-1 because the range function starts at 0.\n",
        "    "
      ]
    },
    {
      "cell_type": "markdown",
      "metadata": {},
      "source": [
        "# 3110. Score of a String(Done)\n"
      ]
    },
    {
      "cell_type": "code",
      "execution_count": null,
      "metadata": {},
      "outputs": [],
      "source": [
        "class Solution:\n",
        "    def scoreOfString(self, s: str) -> int:\n",
        "        letters = dict(a=97, b=98, c=99, d=100,e=101,f=102,g=103,h=104,i=105,j=106,k=107, l=108, m=109, n=110, o=111, p=112,q=113, r=114, s=115, t=116, u=117, v=118, w=119, x=120, y=121, z=122)\n",
        "\n",
        "        sample = \"hello\"\n",
        "        strpd = list(s.lower())\n",
        "        total = 0\n",
        "\n",
        "        for i in range(len(strpd)):\n",
        "            try: \n",
        "                total += (abs(letters[strpd[i]] - letters[strpd[i+1]]))\n",
        "            except IndexError:\n",
        "                pass\n",
        "            \n",
        "        return total\n",
        "        \n",
        " "
      ]
    },
    {
      "cell_type": "code",
      "execution_count": null,
      "metadata": {},
      "outputs": [],
      "source": [
        "letters = dict(a=97, b=98, c=99, d=100,e=101,f=102,g=103,h=104,i=105,j=106,k=107, l=108, m=109, n=110, o=111, p=112,q=113, r=114, s=115, t=116, u=117, v=118, w=119, x=120, y=121, z=122)\n",
        "\n",
        "sample = \"hello\"\n",
        "strpd = list(sample.lower())\n",
        "total = 0\n",
        "\n",
        "for i in range(len(strpd)):\n",
        "    try: \n",
        "        total += (abs(letters[strpd[i]] - letters[strpd[i+1]]))\n",
        "    except IndexError:\n",
        "        pass\n",
        "    \n",
        "print(total)\n",
        "    \n",
        "    "
      ]
    },
    {
      "cell_type": "markdown",
      "metadata": {},
      "source": [
        "# 2011. Final Value of Variable After Performing Operations(Done)\n"
      ]
    },
    {
      "cell_type": "code",
      "execution_count": null,
      "metadata": {},
      "outputs": [],
      "source": [
        "class Solution:\n",
        "    def finalValueAfterOperations(self, operations: List[str]) -> int:        \n",
        "        total = 0\n",
        "    \n",
        "    for i in range(len(operations)):\n",
        "        if (operations[i] == \"--X\" or operations[i] == \"X--\"):\n",
        "            total -= 1\n",
        "        else: total += 1\n",
        "    return total  \n",
        "            \n"
      ]
    },
    {
      "cell_type": "code",
      "execution_count": null,
      "metadata": {},
      "outputs": [],
      "source": [
        "operations = [\"--X\",\"X++\",\"X++\"]\n",
        "\n",
        "\n",
        "\n",
        "def tots(operations):\n",
        "    total = 0\n",
        "    \n",
        "    for i in range(len(operations)):\n",
        "        if (operations[i] == \"--X\" or operations[i] == \"X--\"):\n",
        "            total -= 1\n",
        "        else: total += 1\n",
        "    return total  \n",
        "\n",
        "print(tots(operations)) "
      ]
    },
    {
      "cell_type": "markdown",
      "metadata": {},
      "source": [
        "# 1108. Defanging an IP Address (Done)\n"
      ]
    },
    {
      "cell_type": "code",
      "execution_count": null,
      "metadata": {},
      "outputs": [],
      "source": [
        "class Solution:\n",
        "    def defangIPaddr(self, address: str) -> str:\n",
        "        return address.replace('.', '[.]')\n",
        "        \n",
        "        "
      ]
    },
    {
      "cell_type": "code",
      "execution_count": null,
      "metadata": {},
      "outputs": [],
      "source": [
        "address = \"1.1.1.1\"\n",
        "print(address.replace('.','[.]'))\n",
        "\n",
        "# another solution\n",
        "\n",
        "ans = ''\n",
        "\n",
        "for i in address:\n",
        "    if i != '.':\n",
        "        ans+=i\n",
        "    else: \n",
        "        ans += '[.]'\n",
        "\n",
        "print(ans)\n",
        "\n",
        "    "
      ]
    },
    {
      "cell_type": "markdown",
      "metadata": {},
      "source": [
        "# 771. Jewels and Stones(Done)\n"
      ]
    },
    {
      "cell_type": "code",
      "execution_count": null,
      "metadata": {},
      "outputs": [],
      "source": [
        "jewels = \"zaA\"\n",
        "jewels = list(jewels)\n",
        "stones = \"ZZzzAAAaabbbbb\"\n",
        "stones = list(stones)\n",
        "count = 0\n",
        "\n",
        "for i in range(len(jewels)):\n",
        "    for j in range(len(stones)):\n",
        "        if jewels[i] == stones[j]:\n",
        "            count += 1\n",
        "print(count)\n",
        "\n",
        "# another solution\n",
        "\n",
        "jewels = set(jewels)\n",
        "count = 0\n",
        "for stone in stones:\n",
        "    if stone in jewels:\n",
        "        count+=1\n",
        "print(count)\n",
        "\n",
        "        \n",
        "    "
      ]
    },
    {
      "cell_type": "markdown",
      "metadata": {},
      "source": [
        "# 3280. Convert Date to Binary (Done)\n"
      ]
    },
    {
      "cell_type": "code",
      "execution_count": null,
      "metadata": {},
      "outputs": [],
      "source": [
        "date = \"2025-02-29\"\n",
        "date = date.split('-')\n",
        "date = list(map(int,date))\n",
        "\n",
        "\n",
        "def ConvertToBinary(date):  \n",
        "    return bin(date).replace(\"0b\", \"\")\n",
        "\n",
        "\n",
        "ans = \"\"\n",
        "\n",
        "for i in range(len(date)):\n",
        "    ans +=  ConvertToBinary(date[i])\n",
        "    if i < 2:\n",
        "        ans += \"-\"\n",
        "\n",
        "\n",
        "print(ans)\n",
        "\n"
      ]
    },
    {
      "cell_type": "code",
      "execution_count": null,
      "metadata": {},
      "outputs": [],
      "source": [
        "# Complete solution\n",
        "\n",
        "class Solution:\n",
        "    def convertDateToBinary(self, date: str) -> str:\n",
        "        date = date.split('-')\n",
        "        date = list(map(int,date))\n",
        "        ans = \"\"\n",
        "\n",
        "        for i in range(len(date)):\n",
        "            ans +=  bin(date[i]).replace(\"0b\",\"\")\n",
        "            if i < 2:\n",
        "                ans += \"-\"\n",
        "        return ans"
      ]
    },
    {
      "cell_type": "markdown",
      "metadata": {},
      "source": [
        "# 2942. Find Words Containing Character (Done)\n"
      ]
    },
    {
      "cell_type": "code",
      "execution_count": 160,
      "metadata": {},
      "outputs": [
        {
          "name": "stdout",
          "output_type": "stream",
          "text": [
            "[0, 2]\n"
          ]
        }
      ],
      "source": [
        "words = [\"abc\",\"bcd\",\"aaaa\",\"cbc\"]\n",
        "x = \"a\"\n",
        "\n",
        "indexes = []\n",
        "\n",
        "\n",
        "for i in range(len(words)):\n",
        "        if x in words[i]:\n",
        "            indexes.append(i)\n",
        "            \n",
        "print(indexes)\n",
        "\n",
        "\n"
      ]
    },
    {
      "cell_type": "markdown",
      "metadata": {},
      "source": [
        "# 1684. Count the Number of Consistent Strings\n"
      ]
    },
    {
      "cell_type": "code",
      "execution_count": null,
      "metadata": {},
      "outputs": [
        {
          "name": "stdout",
          "output_type": "stream",
          "text": [
            "ad\n",
            "bd\n",
            "aaab\n",
            "baa\n",
            "badab\n",
            "0\n"
          ]
        }
      ],
      "source": [
        "allowed = \"ab\"\n",
        "words = [\"ad\",\"bd\",\"aaab\",\"baa\",\"badab\"]\n",
        "allowed = list(allowed)\n",
        "counter = 0\n",
        "\n",
        "for i in words:\n",
        "    print(i)\n",
        "            \n",
        "print(counter)\n"
      ]
    },
    {
      "cell_type": "markdown",
      "metadata": {},
      "source": [
        "# 1524. Number of Sub-arrays With Odd Sum"
      ]
    },
    {
      "cell_type": "code",
      "execution_count": null,
      "metadata": {},
      "outputs": [
        {
          "name": "stdout",
          "output_type": "stream",
          "text": [
            "[1, 3, 5]\n"
          ]
        }
      ],
      "source": [
        "arr = [1,3,5]\n",
        "counter = 0\n",
        "index = 0\n",
        "newarr = []\n",
        "\n",
        "for i in range(len(arr)):\n",
        "    if index < len(arr):\n",
        "        newarr.append(arr[i])\n",
        "        index+=1\n",
        "    \n",
        "        \n",
        "        \n",
        "print(newarr)\n"
      ]
    }
  ],
  "metadata": {
    "kernelspec": {
      "display_name": "Python 3",
      "language": "python",
      "name": "python3"
    },
    "language_info": {
      "codemirror_mode": {
        "name": "ipython",
        "version": 3
      },
      "file_extension": ".py",
      "mimetype": "text/x-python",
      "name": "python",
      "nbconvert_exporter": "python",
      "pygments_lexer": "ipython3",
      "version": "3.11.4"
    }
  },
  "nbformat": 4,
  "nbformat_minor": 2
}
